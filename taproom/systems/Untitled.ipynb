{
 "cells": [
  {
   "cell_type": "code",
   "execution_count": 1,
   "id": "34010f67",
   "metadata": {},
   "outputs": [],
   "source": [
    "import yaml\n",
    "import pkg_resources\n",
    "from openff.toolkit.topology import Molecule\n",
    "from tqdm.notebook import tqdm"
   ]
  },
  {
   "cell_type": "code",
   "execution_count": 2,
   "id": "685a5d26",
   "metadata": {},
   "outputs": [],
   "source": [
    "def _get_installed_benchmarks():\n",
    "    _installed_benchmarks = {}\n",
    "\n",
    "    for entry_point in pkg_resources.iter_entry_points(group=\"taproom.benchmarks\"):\n",
    "        _installed_benchmarks[entry_point.name] = entry_point.load()\n",
    "    return _installed_benchmarks\n",
    "\n",
    "\n",
    "installed_benchmarks = _get_installed_benchmarks()"
   ]
  },
  {
   "cell_type": "code",
   "execution_count": 3,
   "id": "63e21af6",
   "metadata": {
    "scrolled": false
   },
   "outputs": [
    {
     "data": {
      "application/vnd.jupyter.widget-view+json": {
       "model_id": "02f166adf67d4821989ea84881a0b7de",
       "version_major": 2,
       "version_minor": 0
      },
      "text/plain": [
       "  0%|          | 0/7 [00:00<?, ?it/s]"
      ]
     },
     "metadata": {},
     "output_type": "display_data"
    },
    {
     "data": {
      "application/vnd.jupyter.widget-view+json": {
       "model_id": "7360c739014248c19d26763576468539",
       "version_major": 2,
       "version_minor": 0
      },
      "text/plain": [
       "  0%|          | 0/16 [00:00<?, ?it/s]"
      ]
     },
     "metadata": {},
     "output_type": "display_data"
    },
    {
     "data": {
      "application/vnd.jupyter.widget-view+json": {
       "model_id": "03bc3081c9f44961ae0ed8c7656bf2e9",
       "version_major": 2,
       "version_minor": 0
      },
      "text/plain": [
       "  0%|          | 0/25 [00:00<?, ?it/s]"
      ]
     },
     "metadata": {},
     "output_type": "display_data"
    },
    {
     "data": {
      "application/vnd.jupyter.widget-view+json": {
       "model_id": "78f74a2d9b534dc58db9f0144820b009",
       "version_major": 2,
       "version_minor": 0
      },
      "text/plain": [
       "  0%|          | 0/24 [00:00<?, ?it/s]"
      ]
     },
     "metadata": {},
     "output_type": "display_data"
    },
    {
     "data": {
      "application/vnd.jupyter.widget-view+json": {
       "model_id": "c20f91a73ab147d2b3751db157845ca4",
       "version_major": 2,
       "version_minor": 0
      },
      "text/plain": [
       "  0%|          | 0/25 [00:00<?, ?it/s]"
      ]
     },
     "metadata": {},
     "output_type": "display_data"
    },
    {
     "data": {
      "application/vnd.jupyter.widget-view+json": {
       "model_id": "aa928306b8a544549c17f6a40a6b0bce",
       "version_major": 2,
       "version_minor": 0
      },
      "text/plain": [
       "  0%|          | 0/24 [00:00<?, ?it/s]"
      ]
     },
     "metadata": {},
     "output_type": "display_data"
    },
    {
     "data": {
      "application/vnd.jupyter.widget-view+json": {
       "model_id": "f85005dfd7e44c2fad59165dacb91bd0",
       "version_major": 2,
       "version_minor": 0
      },
      "text/plain": [
       "  0%|          | 0/24 [00:00<?, ?it/s]"
      ]
     },
     "metadata": {},
     "output_type": "display_data"
    }
   ],
   "source": [
    "for host in tqdm(installed_benchmarks[\"host_guest_systems\"]):\n",
    "    if len(host) > 3:\n",
    "        continue\n",
    "        \n",
    "    # Charge the host\n",
    "    host_folder = str(installed_benchmarks[\"host_guest_systems\"][host][\"path\"])\n",
    "    molecule = Molecule.from_file(f\"{host_folder}/{host}.sdf\", file_format=\"SDF\")\n",
    "    molecule.to_file(f\"{host_folder}/{host}.sdf\", file_format=\"SDF\")\n",
    "\n",
    "    # Charge the guest molecules\n",
    "    for guest in tqdm(installed_benchmarks[\"host_guest_systems\"][host]):\n",
    "        if guest in [\"yaml\", \"path\"]:\n",
    "            continue\n",
    "\n",
    "        yaml_file = installed_benchmarks[\"host_guest_systems\"][host][guest][\"yaml\"]\n",
    "        with open(yaml_file, \"r\") as f:\n",
    "            metadata = yaml.safe_load(f)\n",
    "\n",
    "        folder = str(yaml_file).replace(\"/guest.yaml\", \"\")\n",
    "        sdf_file = metadata[\"structure\"].replace(\".mol2\", \".sdf\")\n",
    "\n",
    "        molecule = Molecule.from_file(f\"{folder}/{sdf_file}\", file_format=\"SDF\")\n",
    "        molecule.to_file(f\"{folder}/{sdf_file}\", file_format=\"SDF\")"
   ]
  },
  {
   "cell_type": "code",
   "execution_count": null,
   "id": "8cd5aaa8",
   "metadata": {},
   "outputs": [],
   "source": []
  }
 ],
 "metadata": {
  "kernelspec": {
   "display_name": "Python 3 (ipykernel)",
   "language": "python",
   "name": "python3"
  },
  "language_info": {
   "codemirror_mode": {
    "name": "ipython",
    "version": 3
   },
   "file_extension": ".py",
   "mimetype": "text/x-python",
   "name": "python",
   "nbconvert_exporter": "python",
   "pygments_lexer": "ipython3",
   "version": "3.9.13"
  }
 },
 "nbformat": 4,
 "nbformat_minor": 5
}
